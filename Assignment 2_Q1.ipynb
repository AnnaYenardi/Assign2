{
 "cells": [
  {
   "cell_type": "markdown",
   "metadata": {},
   "source": [
    "Question 1:  Implement the forward chaining and backward chaining algorithms.  [ 5 Marks for FC + 5 Marks for BC = 10 Marks]\n",
    "\n",
    "The psuedocodes for the forward chaining algorithm can be found in Fig. 7.15 (PL-FC-ENTAILs ). The psuedocode for backward chaining algorithm can be found in lecture slides. These algorithms return True if the KB entails query. If the KB does not entail query, algorithms return False. However, they do not provide clues about the reasoning to the user. For example, the algorithms may return False due to lack of knowledge about a set of variables. For example, in Tutorial 5, Q6, the query Accident could not proven becuase the knowledge about the variable Carelessness is absent. Revise the FC and BC algorithms to provide this information.  \n",
    "\n",
    "    (i). Specifically, the revised algorithms should explain the decision.  The explanation should be along the following lines:   \n",
    "\n",
    "            a. If the query is proved True or False, then show the set of rules that are activated (fired) in the order that enables the user understand the reasoning.\n",
    "\n",
    "            b. If the query could not be proved due to lack of information about a specific variable(s), then the algorithm should inform the user that aditional information about this (these) variables is needed. \n",
    "\n",
    "    (ii). Backward chaining is prone to cycles. See the example below.\n",
    "        \n",
    "         Eg: \n",
    "            KB:\n",
    "             If A, then B\n",
    "             If B, then C\n",
    "             If C, then A.\n",
    "            Query:\n",
    "              A\n",
    "    \n",
    "            This creates a cycle where the truth of A depends on the truth of C, the truth of C depends on the truth of B, and the truth of B depends on the truth of A. This circular reasoning makes it impossible to determine the truth values of A, B, and C based solely on these rules.\n",
    "            \n",
    "            Implement a variant of Backward chaining algoithm that can handle circular dependancy. The algorihm should detect these cycles and request the user for additional information if needed.\n",
    "\n",
    "The expected outputs are provided below. Take them as a guide and we would like to see your versions of explanations."
   ]
  },
  {
   "cell_type": "code",
   "execution_count": null,
   "metadata": {},
   "outputs": [],
   "source": [
    "from logic_ import *\n",
    "from utils import *\n",
    "\n"
   ]
  },
  {
   "cell_type": "code",
   "execution_count": null,
   "metadata": {},
   "outputs": [],
   "source": [
    "#default input for explanation is False, i.e., no explanation is needed for the output\n",
    "   # The function call: \n",
    "   #      pl_fc_entails_m(Definite_kb, q, explanation=False)\n",
    "# If explanation is needed, assume that the user initializes explanation as an empty list\n",
    "   #The function call:\n",
    "      # explanation = [ ] \n",
    "      # pl_fc_entails_m(Definite_kb, q, explanation=False)\n",
    "\n",
    "def pl_fc_entails_m(kb, query, explanation=False):\n",
    "   raise NotImplementedError   #your code goes here\n"
   ]
  },
  {
   "cell_type": "code",
   "execution_count": null,
   "metadata": {},
   "outputs": [],
   "source": [
    "#default input for explanation is False, i.e., no explanation is needed for the output\n",
    "   # The function call: \n",
    "   #      pl_fc_entails_m(Definite_kb, q, explanation=False)\n",
    "# If explanation is needed, assume that the user initializes explanation as an empty list\n",
    "   #The function call:\n",
    "      # explanation = [ ] \n",
    "      # pl_fc_entails_m(Definite_kb, q, explanation=False)\n",
    "\n",
    "def pl_bc_entails_m(kb, query, explanation=False):\n",
    "    raise NotImplementedError  #your code goes here\n",
    "\n"
   ]
  },
  {
   "cell_type": "code",
   "execution_count": null,
   "metadata": {},
   "outputs": [],
   "source": [
    "#Test Case 1:\n",
    "clauses_1 = ['(B & F)==>E', \n",
    "           '(A & E & F)==>G', \n",
    "           '(B & C)==>F', \n",
    "           '(A & B)==>D', \n",
    "           '(E & F)==>H', \n",
    "           '(H & I)==>J',\n",
    "           'A', \n",
    "           'B', \n",
    "           'C']\n",
    "\n",
    "proposotional_KB_1 = PropKB()\n",
    "for clause in clauses_1:\n",
    "    proposotional_KB_1.tell(expr(clause))\n",
    "\n",
    "definite_clauses_KB_1 = PropDefiniteKB()\n",
    "for clause in clauses_1:\n",
    "    definite_clauses_KB_1.tell(expr(clause))"
   ]
  },
  {
   "cell_type": "code",
   "execution_count": null,
   "metadata": {},
   "outputs": [],
   "source": [
    "explanation_fc_1= [ ]\n",
    "x_1_fc = pl_fc_entails_m(definite_clauses_KB_1, expr('G'), explanation_fc_1)\n",
    "\n",
    "for i in explanation_fc_1:\n",
    "    print(i)"
   ]
  },
  {
   "cell_type": "markdown",
   "metadata": {},
   "source": [
    "Expected output:\n",
    "\n",
    "From the KB, we know the following statements are true: A, B, C\n",
    "\n",
    "-According to ((B & C) ==> F), F is true.\n",
    "\n",
    "-According to ((B & F) ==> E), E is true.\n",
    "\n",
    "-According to ((E & F) ==> H), H is true.\n",
    "\n",
    "-According to (((A & E) & F) ==> G), G is true.\n",
    "\n",
    "-According to ((A & B) ==> D), D is true.\n",
    "\n",
    "===>So, G is true.\n"
   ]
  },
  {
   "cell_type": "code",
   "execution_count": null,
   "metadata": {},
   "outputs": [],
   "source": [
    "explanation_bc_1= [ ]\n",
    "x_1 = pl_bc_entails_m(definite_clauses_KB_1, expr('G'),  explanation_bc_1):\n",
    "for i in explanation_bc_1:\n",
    "    print(i)"
   ]
  },
  {
   "cell_type": "markdown",
   "metadata": {},
   "source": [
    "\n",
    "Expected output:\n",
    "\n",
    "According to the KB, the following statements are true: A, B, C\n",
    "\n",
    "If A & E & F is true, then G is true: \n",
    "\n",
    "    A is True.\n",
    "\n",
    "    If B & F is true, then E is true: \n",
    "\n",
    "        B is True.\n",
    "\n",
    "        If B & C is true, then F is true: \n",
    "\n",
    "            B is True.\n",
    "\n",
    "            C is True.\n",
    "\n",
    "        ===>So, F is true.\n",
    "\n",
    "    ===>So, E is true.\n",
    "\n",
    "    F is True.\n",
    "    \n",
    "===>So, G is true."
   ]
  },
  {
   "cell_type": "code",
   "execution_count": null,
   "metadata": {},
   "outputs": [],
   "source": [
    "#Test Case 2:\n",
    "clauses_2 = ['A==>B', \n",
    "           'B==>C', \n",
    "           'C==>A']\n",
    "\n",
    "\n",
    "proposotional_KB_2 = PropKB()\n",
    "for clause in clauses_2:\n",
    "    proposotional_KB_2.tell(expr(clause))\n",
    "\n",
    "definite_clauses_KB_2 = PropDefiniteKB()\n",
    "for clause in clauses_2:\n",
    "    definite_clauses_KB_2.tell(expr(clause))"
   ]
  },
  {
   "cell_type": "code",
   "execution_count": null,
   "metadata": {},
   "outputs": [],
   "source": [
    "explanation_fc_2= [ ]\n",
    "x_2_fc = pl_fc_entails_m(definite_clauses_KB_2, expr('C'), explanation_fc_2)\n",
    "\n",
    "for i in explanation_fc_2:\n",
    "    print(i)"
   ]
  },
  {
   "cell_type": "markdown",
   "metadata": {},
   "source": [
    "\n",
    "Expected output:\n",
    "\n",
    "From the KB, we know the following statements are true: null\n",
    "\n",
    "-We have derived all of the atomic sentences entailed by KB, but C is not among them.\n",
    "\n",
    "===>Thus the KB doensn't entail C."
   ]
  },
  {
   "cell_type": "code",
   "execution_count": null,
   "metadata": {},
   "outputs": [],
   "source": [
    "explanation_bc_2= [ ]\n",
    "x_2_fc = pl_bc_entails_m(definite_clauses_KB_2, expr('C'),  explanation_bc_2)\n",
    "\n",
    "for i in explanation_bc_2:\n",
    "    print(i)"
   ]
  },
  {
   "cell_type": "markdown",
   "metadata": {},
   "source": [
    "\n",
    "Expected output:\n",
    "\n",
    "According to the KB, the following statements are true: null\n",
    "\n",
    "If B is true, then C is true: \n",
    "\n",
    "    If A is true, then B is true: \n",
    "\n",
    "        If C is true, then A is true: \n",
    "\n",
    "            ===>(infinite loop detected) C is False.\n",
    "\n",
    "        ===>We cannot conclude A.\n",
    "\n",
    "    ===>We cannot conclude B.\n",
    "    \n",
    "===>We cannot conclude C."
   ]
  }
 ],
 "metadata": {
  "kernelspec": {
   "display_name": "IT5005_AIMA",
   "language": "python",
   "name": "python3"
  },
  "language_info": {
   "codemirror_mode": {
    "name": "ipython",
    "version": 3
   },
   "file_extension": ".py",
   "mimetype": "text/x-python",
   "name": "python",
   "nbconvert_exporter": "python",
   "pygments_lexer": "ipython3",
   "version": "3.11.3"
  }
 },
 "nbformat": 4,
 "nbformat_minor": 2
}
